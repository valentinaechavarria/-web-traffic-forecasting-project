{
  "nbformat": 4,
  "nbformat_minor": 0,
  "metadata": {
    "colab": {
      "provenance": [],
      "collapsed_sections": [],
      "include_colab_link": true
    },
    "kernelspec": {
      "name": "python3",
      "display_name": "Python 3"
    },
    "language_info": {
      "name": "python"
    }
  },
  "cells": [
    {
      "cell_type": "markdown",
      "metadata": {
        "id": "view-in-github",
        "colab_type": "text"
      },
      "source": [
        "<a href=\"https://colab.research.google.com/github/valentinaechavarria/-web-traffic-forecasting-project/blob/develop/1_entregaFinal.ipynb\" target=\"_parent\"><img src=\"https://colab.research.google.com/assets/colab-badge.svg\" alt=\"Open In Colab\"/></a>"
      ]
    },
    {
      "cell_type": "markdown",
      "source": [
        "##0. "
      ],
      "metadata": {
        "id": "YHs670BWAr5Q"
      }
    },
    {
      "cell_type": "code",
      "source": [
        "!pip install pystan~=2.14\n",
        "!pip install fbprophet\n",
        "!pip install kaggle"
      ],
      "metadata": {
        "colab": {
          "base_uri": "https://localhost:8080/"
        },
        "id": "ynuYHXeJBc_W",
        "outputId": "2d7a688a-9113-4d11-8445-720cb684ba3a"
      },
      "execution_count": null,
      "outputs": [
        {
          "output_type": "stream",
          "name": "stdout",
          "text": [
            "Looking in indexes: https://pypi.org/simple, https://us-python.pkg.dev/colab-wheels/public/simple/\n",
            "Requirement already satisfied: pystan~=2.14 in /usr/local/lib/python3.7/dist-packages (2.19.1.1)\n",
            "Requirement already satisfied: numpy>=1.7 in /usr/local/lib/python3.7/dist-packages (from pystan~=2.14) (1.21.6)\n",
            "Requirement already satisfied: Cython!=0.25.1,>=0.22 in /usr/local/lib/python3.7/dist-packages (from pystan~=2.14) (0.29.32)\n",
            "Looking in indexes: https://pypi.org/simple, https://us-python.pkg.dev/colab-wheels/public/simple/\n",
            "Requirement already satisfied: fbprophet in /usr/local/lib/python3.7/dist-packages (0.7.1)\n",
            "Requirement already satisfied: python-dateutil>=2.8.0 in /usr/local/lib/python3.7/dist-packages (from fbprophet) (2.8.2)\n",
            "Requirement already satisfied: cmdstanpy==0.9.5 in /usr/local/lib/python3.7/dist-packages (from fbprophet) (0.9.5)\n",
            "Requirement already satisfied: pandas>=1.0.4 in /usr/local/lib/python3.7/dist-packages (from fbprophet) (1.3.5)\n",
            "Requirement already satisfied: pystan>=2.14 in /usr/local/lib/python3.7/dist-packages (from fbprophet) (2.19.1.1)\n",
            "Requirement already satisfied: holidays>=0.10.2 in /usr/local/lib/python3.7/dist-packages (from fbprophet) (0.16)\n",
            "Requirement already satisfied: LunarCalendar>=0.0.9 in /usr/local/lib/python3.7/dist-packages (from fbprophet) (0.0.9)\n",
            "Requirement already satisfied: matplotlib>=2.0.0 in /usr/local/lib/python3.7/dist-packages (from fbprophet) (3.2.2)\n",
            "Requirement already satisfied: convertdate>=2.1.2 in /usr/local/lib/python3.7/dist-packages (from fbprophet) (2.4.0)\n",
            "Requirement already satisfied: setuptools-git>=1.2 in /usr/local/lib/python3.7/dist-packages (from fbprophet) (1.2)\n",
            "Requirement already satisfied: tqdm>=4.36.1 in /usr/local/lib/python3.7/dist-packages (from fbprophet) (4.64.1)\n",
            "Requirement already satisfied: numpy>=1.15.4 in /usr/local/lib/python3.7/dist-packages (from fbprophet) (1.21.6)\n",
            "Requirement already satisfied: Cython>=0.22 in /usr/local/lib/python3.7/dist-packages (from fbprophet) (0.29.32)\n",
            "Requirement already satisfied: pymeeus<=1,>=0.3.13 in /usr/local/lib/python3.7/dist-packages (from convertdate>=2.1.2->fbprophet) (0.5.11)\n",
            "Requirement already satisfied: korean-lunar-calendar in /usr/local/lib/python3.7/dist-packages (from holidays>=0.10.2->fbprophet) (0.3.1)\n",
            "Requirement already satisfied: hijri-converter in /usr/local/lib/python3.7/dist-packages (from holidays>=0.10.2->fbprophet) (2.2.4)\n",
            "Requirement already satisfied: ephem>=3.7.5.3 in /usr/local/lib/python3.7/dist-packages (from LunarCalendar>=0.0.9->fbprophet) (4.1.3)\n",
            "Requirement already satisfied: pytz in /usr/local/lib/python3.7/dist-packages (from LunarCalendar>=0.0.9->fbprophet) (2022.6)\n",
            "Requirement already satisfied: pyparsing!=2.0.4,!=2.1.2,!=2.1.6,>=2.0.1 in /usr/local/lib/python3.7/dist-packages (from matplotlib>=2.0.0->fbprophet) (3.0.9)\n",
            "Requirement already satisfied: cycler>=0.10 in /usr/local/lib/python3.7/dist-packages (from matplotlib>=2.0.0->fbprophet) (0.11.0)\n",
            "Requirement already satisfied: kiwisolver>=1.0.1 in /usr/local/lib/python3.7/dist-packages (from matplotlib>=2.0.0->fbprophet) (1.4.4)\n",
            "Requirement already satisfied: typing-extensions in /usr/local/lib/python3.7/dist-packages (from kiwisolver>=1.0.1->matplotlib>=2.0.0->fbprophet) (4.1.1)\n",
            "Requirement already satisfied: six>=1.5 in /usr/local/lib/python3.7/dist-packages (from python-dateutil>=2.8.0->fbprophet) (1.15.0)\n"
          ]
        }
      ]
    },
    {
      "cell_type": "code",
      "source": [],
      "metadata": {
        "id": "4w3eCikeT5TM"
      },
      "execution_count": null,
      "outputs": []
    },
    {
      "cell_type": "code",
      "source": [
        "!mkdir ~/.kaggle\n",
        "!touch ~/.kaggle/kaggle.json\n",
        "\n",
        "api_token = {\"username\":\"felipecadavidrincn\",\"key\":\"d9b9503283bc4582046878ec6ea10ccf\"}\n",
        "\n",
        "import json\n",
        "\n",
        "with open('/root/.kaggle/kaggle.json', 'w') as file:\n",
        "    json.dump(api_token, file)\n",
        "\n",
        "!chmod 600 ~/.kaggle/kaggle.json"
      ],
      "metadata": {
        "colab": {
          "base_uri": "https://localhost:8080/"
        },
        "id": "zwUWgFejEHzf",
        "outputId": "01a26a60-3ad3-465d-b95c-36ddccb51565"
      },
      "execution_count": null,
      "outputs": [
        {
          "output_type": "stream",
          "name": "stdout",
          "text": [
            "mkdir: cannot create directory ‘/root/.kaggle’: File exists\n"
          ]
        }
      ]
    },
    {
      "cell_type": "code",
      "source": [
        "%%bash\n",
        "export KAGGLE_CONFIG_DIR=~/.kaggle/\n",
        "kaggle competitions download web-traffic-time-series-forecasting -f key_1.csv.zip\n",
        "kaggle competitions download web-traffic-time-series-forecasting -f key_2.csv.zip\n",
        "kaggle competitions download web-traffic-time-series-forecasting -f sample_submission_1.csv.zip\n",
        "kaggle competitions download web-traffic-time-series-forecasting -f sample_submission_2.csv.zip\n",
        "kaggle competitions download web-traffic-time-series-forecasting -f train_1.csv.zip\n",
        "kaggle competitions download web-traffic-time-series-forecasting -f train_2.csv.zip"
      ],
      "metadata": {
        "colab": {
          "base_uri": "https://localhost:8080/"
        },
        "id": "9e6Zj0EjR8XJ",
        "outputId": "ff196c1a-b709-4d47-9fc4-3a3542354a51"
      },
      "execution_count": null,
      "outputs": [
        {
          "output_type": "stream",
          "name": "stdout",
          "text": [
            "Downloading key_1.csv.zip to /content\n",
            "\n",
            "Downloading key_2.csv.zip to /content\n",
            "\n",
            "Downloading sample_submission_1.csv.zip to /content\n",
            "\n",
            "Downloading sample_submission_2.csv.zip to /content\n",
            "\n",
            "Downloading train_1.csv.zip to /content\n",
            "\n",
            "Downloading train_2.csv.zip to /content\n",
            "\n"
          ]
        },
        {
          "output_type": "stream",
          "name": "stderr",
          "text": [
            "\r  0%|          | 0.00/96.0M [00:00<?, ?B/s]\r  1%|          | 1.00M/96.0M [00:00<00:50, 1.97MB/s]\r  2%|▏         | 2.00M/96.0M [00:00<00:28, 3.41MB/s]\r  5%|▌         | 5.00M/96.0M [00:00<00:10, 9.13MB/s]\r 10%|█         | 10.0M/96.0M [00:00<00:04, 19.0MB/s]\r 17%|█▋        | 16.0M/96.0M [00:01<00:02, 28.7MB/s]\r 23%|██▎       | 22.0M/96.0M [00:01<00:02, 37.2MB/s]\r 29%|██▉       | 28.0M/96.0M [00:01<00:01, 39.4MB/s]\r 38%|███▊      | 36.0M/96.0M [00:01<00:01, 45.6MB/s]\r 45%|████▍     | 43.0M/96.0M [00:01<00:01, 49.0MB/s]\r 51%|█████     | 49.0M/96.0M [00:01<00:00, 51.7MB/s]\r 57%|█████▋    | 55.0M/96.0M [00:01<00:01, 38.2MB/s]\r 65%|██████▍   | 62.0M/96.0M [00:02<00:00, 42.8MB/s]\r 70%|██████▉   | 67.0M/96.0M [00:02<00:00, 39.4MB/s]\r 75%|███████▌  | 72.0M/96.0M [00:02<00:00, 41.4MB/s]\r 82%|████████▏ | 79.0M/96.0M [00:02<00:00, 45.7MB/s]\r 89%|████████▊ | 85.0M/96.0M [00:02<00:00, 49.2MB/s]\r 94%|█████████▍| 90.0M/96.0M [00:02<00:00, 49.4MB/s]\r100%|██████████| 96.0M/96.0M [00:02<00:00, 36.7MB/s]\n",
            "\r  0%|          | 0.00/101M [00:00<?, ?B/s]\r  1%|          | 1.00M/101M [00:00<00:38, 2.73MB/s]\r  3%|▎         | 3.00M/101M [00:00<00:13, 7.62MB/s]\r  9%|▉         | 9.00M/101M [00:00<00:04, 21.9MB/s]\r 14%|█▍        | 14.0M/101M [00:00<00:03, 26.0MB/s]\r 18%|█▊        | 18.0M/101M [00:00<00:02, 29.6MB/s]\r 22%|██▏       | 22.0M/101M [00:01<00:03, 26.6MB/s]\r 28%|██▊       | 28.0M/101M [00:01<00:02, 34.1MB/s]\r 34%|███▎      | 34.0M/101M [00:01<00:01, 40.3MB/s]\r 40%|███▉      | 40.0M/101M [00:01<00:01, 44.5MB/s]\r 45%|████▍     | 45.0M/101M [00:01<00:01, 38.4MB/s]\r 50%|████▉     | 50.0M/101M [00:01<00:01, 37.8MB/s]\r 58%|█████▊    | 58.0M/101M [00:01<00:01, 44.7MB/s]\r 64%|██████▎   | 64.0M/101M [00:01<00:00, 48.2MB/s]\r 68%|██████▊   | 69.0M/101M [00:02<00:00, 46.9MB/s]\r 74%|███████▍  | 75.0M/101M [00:02<00:00, 42.2MB/s]\r 80%|████████  | 81.0M/101M [00:02<00:00, 42.7MB/s]\r 87%|████████▋ | 88.0M/101M [00:02<00:00, 49.7MB/s]\r 93%|█████████▎| 94.0M/101M [00:02<00:00, 43.7MB/s]\r 99%|█████████▉| 100M/101M [00:02<00:00, 46.7MB/s] \r100%|██████████| 101M/101M [00:02<00:00, 37.5MB/s]\n",
            "\r  0%|          | 0.00/66.0M [00:00<?, ?B/s]\r  2%|▏         | 1.00M/66.0M [00:00<00:24, 2.77MB/s]\r  5%|▍         | 3.00M/66.0M [00:00<00:08, 7.73MB/s]\r 14%|█▎        | 9.00M/66.0M [00:00<00:02, 22.2MB/s]\r 23%|██▎       | 15.0M/66.0M [00:00<00:01, 33.4MB/s]\r 30%|███       | 20.0M/66.0M [00:00<00:01, 38.4MB/s]\r 38%|███▊      | 25.0M/66.0M [00:01<00:01, 32.3MB/s]\r 44%|████▍     | 29.0M/66.0M [00:01<00:01, 31.3MB/s]\r 53%|█████▎    | 35.0M/66.0M [00:01<00:00, 38.4MB/s]\r 62%|██████▏   | 41.0M/66.0M [00:01<00:00, 43.7MB/s]\r 71%|███████   | 47.0M/66.0M [00:01<00:00, 46.2MB/s]\r 82%|████████▏ | 54.0M/66.0M [00:01<00:00, 49.9MB/s]\r 92%|█████████▏| 61.0M/66.0M [00:01<00:00, 53.1MB/s]\r100%|██████████| 66.0M/66.0M [00:01<00:00, 38.2MB/s]\n",
            "\r  0%|          | 0.00/68.2M [00:00<?, ?B/s]\r  1%|▏         | 1.00M/68.2M [00:00<00:27, 2.55MB/s]\r  4%|▍         | 3.00M/68.2M [00:00<00:09, 7.11MB/s]\r 12%|█▏        | 8.00M/68.2M [00:00<00:03, 19.0MB/s]\r 18%|█▊        | 12.0M/68.2M [00:00<00:02, 25.3MB/s]\r 25%|██▍       | 17.0M/68.2M [00:00<00:02, 24.9MB/s]\r 29%|██▉       | 20.0M/68.2M [00:01<00:02, 22.7MB/s]\r 37%|███▋      | 25.0M/68.2M [00:01<00:01, 28.0MB/s]\r 43%|████▎     | 29.0M/68.2M [00:01<00:01, 28.6MB/s]\r 48%|████▊     | 33.0M/68.2M [00:01<00:01, 27.9MB/s]\r 53%|█████▎    | 36.0M/68.2M [00:01<00:01, 24.6MB/s]\r 65%|██████▍   | 44.0M/68.2M [00:01<00:00, 34.2MB/s]\r 75%|███████▍  | 51.0M/68.2M [00:01<00:00, 40.0MB/s]\r 85%|████████▌ | 58.0M/68.2M [00:02<00:00, 44.0MB/s]\r 95%|█████████▌| 65.0M/68.2M [00:02<00:00, 47.2MB/s]\r100%|██████████| 68.2M/68.2M [00:02<00:00, 31.4MB/s]\n",
            "\r  0%|          | 0.00/102M [00:00<?, ?B/s]\r  1%|          | 1.00M/102M [00:00<00:40, 2.65MB/s]\r  3%|▎         | 3.00M/102M [00:00<00:14, 7.42MB/s]\r  9%|▉         | 9.00M/102M [00:00<00:04, 21.4MB/s]\r 15%|█▍        | 15.0M/102M [00:00<00:02, 31.7MB/s]\r 20%|█▉        | 20.0M/102M [00:00<00:02, 37.0MB/s]\r 26%|██▋       | 27.0M/102M [00:00<00:01, 45.9MB/s]\r 32%|███▏      | 33.0M/102M [00:01<00:01, 49.1MB/s]\r 38%|███▊      | 39.0M/102M [00:01<00:01, 51.3MB/s]\r 44%|████▍     | 45.0M/102M [00:01<00:01, 50.3MB/s]\r 50%|████▉     | 51.0M/102M [00:01<00:01, 50.1MB/s]\r 55%|█████▍    | 56.0M/102M [00:01<00:01, 42.5MB/s]\r 60%|█████▉    | 61.0M/102M [00:01<00:01, 36.7MB/s]\r 64%|██████▍   | 66.0M/102M [00:01<00:00, 39.7MB/s]\r 71%|███████▏  | 73.0M/102M [00:02<00:00, 44.3MB/s]\r 78%|███████▊  | 80.0M/102M [00:02<00:00, 48.2MB/s]\r 84%|████████▍ | 86.0M/102M [00:02<00:00, 50.9MB/s]\r 90%|████████▉ | 92.0M/102M [00:02<00:00, 53.7MB/s]\r 96%|█████████▌| 98.0M/102M [00:02<00:00, 55.0MB/s]\r100%|██████████| 102M/102M [00:02<00:00, 42.0MB/s] \n",
            "\r  0%|          | 0.00/150M [00:00<?, ?B/s]\r  1%|          | 1.00M/150M [00:00<00:58, 2.68MB/s]\r  2%|▏         | 3.00M/150M [00:00<00:20, 7.47MB/s]\r  6%|▌         | 9.00M/150M [00:00<00:06, 21.4MB/s]\r  9%|▊         | 13.0M/150M [00:00<00:05, 26.9MB/s]\r 12%|█▏        | 18.0M/150M [00:00<00:04, 32.8MB/s]\r 15%|█▌        | 23.0M/150M [00:00<00:03, 38.0MB/s]\r 19%|█▊        | 28.0M/150M [00:01<00:03, 38.9MB/s]\r 22%|██▏       | 33.0M/150M [00:01<00:02, 41.5MB/s]\r 25%|██▌       | 38.0M/150M [00:01<00:02, 41.7MB/s]\r 29%|██▊       | 43.0M/150M [00:01<00:02, 42.0MB/s]\r 32%|███▏      | 48.0M/150M [00:01<00:02, 40.1MB/s]\r 36%|███▌      | 54.0M/150M [00:01<00:02, 44.2MB/s]\r 39%|███▉      | 59.0M/150M [00:01<00:02, 35.8MB/s]\r 43%|████▎     | 65.0M/150M [00:02<00:02, 31.1MB/s]\r 46%|████▌     | 69.0M/150M [00:02<00:02, 32.2MB/s]\r 49%|████▊     | 73.0M/150M [00:02<00:02, 31.3MB/s]\r 53%|█████▎    | 80.0M/150M [00:02<00:01, 39.8MB/s]\r 57%|█████▋    | 85.0M/150M [00:02<00:01, 39.4MB/s]\r 60%|█████▉    | 90.0M/150M [00:02<00:01, 42.2MB/s]\r 65%|██████▍   | 97.0M/150M [00:02<00:01, 42.7MB/s]\r 69%|██████▉   | 104M/150M [00:03<00:01, 46.5MB/s] \r 73%|███████▎  | 109M/150M [00:03<00:01, 37.9MB/s]\r 75%|███████▌  | 113M/150M [00:03<00:01, 30.7MB/s]\r 80%|███████▉  | 120M/150M [00:03<00:00, 36.8MB/s]\r 83%|████████▎ | 124M/150M [00:03<00:00, 28.2MB/s]\r 86%|████████▌ | 129M/150M [00:03<00:00, 32.1MB/s]\r 91%|█████████ | 136M/150M [00:04<00:00, 37.5MB/s]\r 95%|█████████▍| 142M/150M [00:04<00:00, 42.5MB/s]\r 98%|█████████▊| 147M/150M [00:04<00:00, 42.4MB/s]\r100%|██████████| 150M/150M [00:04<00:00, 35.6MB/s]\n"
          ]
        }
      ]
    },
    {
      "cell_type": "markdown",
      "source": [
        "## Importing Data\n",
        "\n"
      ],
      "metadata": {
        "id": "tYAPOBCtC5Xj"
      }
    },
    {
      "cell_type": "code",
      "execution_count": null,
      "metadata": {
        "id": "fSZKoxe94pr_"
      },
      "outputs": [],
      "source": [
        "import numpy as np\n",
        "import pandas as pd\n",
        "from fbprophet import Prophet\n",
        "import matplotlib.pyplot as plt\n",
        "import math as math\n",
        "\n",
        "%matplotlib inline"
      ]
    },
    {
      "cell_type": "code",
      "source": [],
      "metadata": {
        "id": "B0tpwLk2DE3j"
      },
      "execution_count": null,
      "outputs": []
    }
  ]
}